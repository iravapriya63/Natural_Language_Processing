{
 "cells": [
  {
   "cell_type": "markdown",
   "id": "5a78a98b",
   "metadata": {},
   "source": [
    "## Read the data\n"
   ]
  },
  {
   "cell_type": "code",
   "execution_count": 1,
   "id": "c64427ae",
   "metadata": {},
   "outputs": [
    {
     "name": "stderr",
     "output_type": "stream",
     "text": [
      "c:\\Python310\\lib\\site-packages\\tqdm\\auto.py:22: TqdmWarning: IProgress not found. Please update jupyter and ipywidgets. See https://ipywidgets.readthedocs.io/en/stable/user_install.html\n",
      "  from .autonotebook import tqdm as notebook_tqdm\n"
     ]
    }
   ],
   "source": [
    "import pandas as pd\n",
    "import numpy as np\n",
    "import sqlite3\n",
    "import regex as re\n",
    "from tqdm.auto import tqdm\n",
    "from collections import Counter\n",
    "from spacy.lang.en.stop_words import STOP_WORDS"
   ]
  },
  {
   "cell_type": "code",
   "execution_count": 2,
   "id": "d9bbbe27",
   "metadata": {},
   "outputs": [],
   "source": [
    "con = sqlite3.connect(\"wiki-articles-extended.db\")\n",
    "\n",
    "df = pd.read_sql_query(\"SELECT * from wiki_articles_extended\", con)\n",
    "#con.close()\n",
    "#df "
   ]
  },
  {
   "cell_type": "code",
   "execution_count": 3,
   "id": "88c6f97d",
   "metadata": {},
   "outputs": [],
   "source": [
    "def single_words(df, field):\n",
    "    return [w.lower() for words in df[field] for w in re.split(r'\\||\\#', words) if len(w)>1]"
   ]
  },
  {
   "cell_type": "code",
   "execution_count": 4,
   "id": "5214abc6",
   "metadata": {},
   "outputs": [],
   "source": [
    "nouns = Counter(single_words(df, \"nouns\"))\n",
    "for w in STOP_WORDS:\n",
    "    nouns[w] = 0\n",
    "    \n",
    "voc = [w[0] for w in nouns.most_common(7500)]\n",
    "#voc.index(\"information\")"
   ]
  },
  {
   "cell_type": "markdown",
   "id": "d146cc30",
   "metadata": {},
   "source": [
    "### Tasks 1a and 1b"
   ]
  },
  {
   "cell_type": "code",
   "execution_count": 5,
   "id": "7aca742a",
   "metadata": {},
   "outputs": [
    {
     "name": "stdout",
     "output_type": "stream",
     "text": [
      "The table 'wiki_articles_extended' exists\n",
      "The dataframe contains all the expected columns\n"
     ]
    }
   ],
   "source": [
    "#Question1-A\n",
    "# Check if the table exists\n",
    "cursor = con.cursor()\n",
    "cursor.execute(\"select name from sqlite_master WHERE type='table' and name='wiki_articles_extended'\")\n",
    "table = cursor.fetchone()\n",
    "\n",
    "if table:\n",
    "    print(\"The table 'wiki_articles_extended' exists\")\n",
    "else:\n",
    "    print(\"The table 'wiki_articles_extended' does not exist\")\n",
    "\n",
    "expected_columns = [\"title\", \"text\", \"name\", \"url\", \"nouns\"]\n",
    "missing_columns = set(expected_columns) - set(df.columns)\n",
    "\n",
    "if not missing_columns:\n",
    "    print(\"The dataframe contains all the expected columns\")\n",
    "else:\n",
    "    print(\"The dataframe is missing the following columns: {}\".format(missing_columns))\n"
   ]
  },
  {
   "cell_type": "code",
   "execution_count": 6,
   "id": "869e8354",
   "metadata": {},
   "outputs": [
    {
     "name": "stdout",
     "output_type": "stream",
     "text": [
      "7500\n",
      "restaurant\n"
     ]
    }
   ],
   "source": [
    "#Question1-b\n",
    "print(len(voc)) # should print 7500\n",
    "print(voc[-1]) # the least frequent token in the list, should have a frequency of at least 1"
   ]
  },
  {
   "cell_type": "markdown",
   "id": "c99e832f",
   "metadata": {},
   "source": [
    "# Co-occurrence analysis (main homework)\n"
   ]
  },
  {
   "cell_type": "code",
   "execution_count": 7,
   "id": "896e1fc4",
   "metadata": {},
   "outputs": [
    {
     "name": "stderr",
     "output_type": "stream",
     "text": [
      "100%|██████████| 60/60 [00:08<00:00,  7.44it/s]\n"
     ]
    }
   ],
   "source": [
    "#Question1-C\n",
    "from collections import defaultdict\n",
    "cooccurrence_matrix = defaultdict(lambda: Counter())\n",
    "\n",
    "window = 5 # should be odd\n",
    "skip = (window - 1) // 2\n",
    "for doc in tqdm(df[\"nouns\"]):\n",
    "    # remove stop words\n",
    "    tokens = [w for w in re.split(r'\\||\\#', doc) if w not in STOP_WORDS]\n",
    "    for i, w in enumerate(tokens):\n",
    "        if w in voc:\n",
    "            for j in range(max(0, i-skip), i):\n",
    "                if tokens[j] in voc:\n",
    "                    cooccurrence_matrix[w][tokens[j]] += 1\n",
    "            for j in range(i+1, min(i+1+skip, len(tokens))):\n",
    "                if tokens[j] in voc:\n",
    "                    cooccurrence_matrix[w][tokens[j]] += 1\n",
    "\n",
    "cooccurrence_matrix_np = np.zeros((len(voc), len(voc)))\n",
    "for i, w1 in enumerate(voc):\n",
    "    for j, w2 in enumerate(voc):\n",
    "        cooccurrence_matrix_np[i, j] = cooccurrence_matrix[w1][w2]\n",
    "\n"
   ]
  },
  {
   "cell_type": "code",
   "execution_count": 8,
   "id": "cf1e58f7",
   "metadata": {},
   "outputs": [
    {
     "name": "stdout",
     "output_type": "stream",
     "text": [
      "Value for cooccurrence_matrix_np[voc.index(\"security\")][voc.index(\"information\")] : 322.0\n",
      "Value for cooccurrence_matrix_np[voc.index(\"information\")][voc.index(\"security\")] : 322.0\n",
      "The values at the indices of the words 'security' and 'information' are not the same.\n"
     ]
    }
   ],
   "source": [
    "print(f'Value for cooccurrence_matrix_np[voc.index(\"security\")][voc.index(\"information\")] : {cooccurrence_matrix_np[voc.index(\"security\")][voc.index(\"information\")]}')\n",
    "print(f'Value for cooccurrence_matrix_np[voc.index(\"information\")][voc.index(\"security\")] : {cooccurrence_matrix_np[voc.index(\"information\")][voc.index(\"security\")]}')\n",
    "\n",
    "# Check if the values at the indices of the words \"security\" and \"information\" are the same\n",
    "if cooccurrence_matrix_np[voc.index(\"security\")][voc.index(\"information\")] == cooccurrence_matrix_np[voc.index(\"information\")][voc.index(\"security\")]:\n",
    "    print(\"The values at the indices of the words 'security' and 'information' are not the same.\")\n",
    "else:\n",
    "    print(\"The values at the indices of the words 'security' and 'information' are not the same.\")\n"
   ]
  },
  {
   "cell_type": "code",
   "execution_count": 9,
   "id": "9ff80b2a",
   "metadata": {},
   "outputs": [
    {
     "name": "stdout",
     "output_type": "stream",
     "text": [
      "For all indices a and b, the value at coocc_matrix_np[a][b] is equal to the value at coocc_matrix_np[b][a].\n"
     ]
    }
   ],
   "source": [
    "#Question1-d\n",
    "is_symmetric = np.allclose(cooccurrence_matrix_np, cooccurrence_matrix_np.T)\n",
    "if is_symmetric:\n",
    "    print(\"For all indices a and b, the value at coocc_matrix_np[a][b] is equal to the value at coocc_matrix_np[b][a].\")\n",
    "else:\n",
    "    print(\"For all indices a and b, the value at coocc_matrix_np[a][b] is not equal to the value at coocc_matrix_np[b][a].\")"
   ]
  },
  {
   "cell_type": "code",
   "execution_count": 11,
   "id": "2285c316",
   "metadata": {},
   "outputs": [
    {
     "name": "stdout",
     "output_type": "stream",
     "text": [
      "Top 10 keywords by PageRank:\n",
      "1. security: 0.01101\n",
      "2. system: 0.00814\n",
      "3. software: 0.00716\n",
      "4. information: 0.00546\n",
      "5. testing: 0.00371\n",
      "6. computer: 0.00359\n",
      "7. pp: 0.00342\n",
      "8. application: 0.00339\n",
      "9. datum: 0.00339\n",
      "10. code: 0.00333\n"
     ]
    }
   ],
   "source": [
    "#Question-2a\n",
    "# Transform co-occurrence matrix to stochastic matrix\n",
    "stochastic_matrix = np.divide(cooccurrence_matrix_np, np.sum(cooccurrence_matrix_np, axis=0, keepdims=True) + 0.001)\n",
    "def pagerank(p, num_iterations=100, d=0.85):\n",
    "    # initialize the page rank vector with 1/N\n",
    "    q = p.shape[0]\n",
    "    r = np.ones(q) / q\n",
    "    # main algorithm\n",
    "    for i in range(num_iterations):\n",
    "        r = d * np.matmul(p, r) + (1 - d) / q\n",
    "    return r\n",
    "\n",
    "# Compute PageRank scores for each word in the vocabulary\n",
    "page_ranks = pagerank(stochastic_matrix)\n",
    "word_scores = [(voc[i], score) for i, score in enumerate(page_ranks)]\n",
    "\n",
    "# Sort the word scores in descending order and print the top 10 words\n",
    "word_scores_sorted = sorted(word_scores, key=lambda x: x[1], reverse=True)[:10]\n",
    "print(\"Top 10 keywords by PageRank:\")\n",
    "for i, (word, score) in enumerate(word_scores_sorted):\n",
    "    print(f\"{i+1}. {word}: {score:.5f}\")\n",
    "\n",
    "#print(voc[:10])\n",
    "\n"
   ]
  },
  {
   "cell_type": "code",
   "execution_count": 13,
   "id": "10e34da0",
   "metadata": {},
   "outputs": [],
   "source": [
    "#Question 3a\n",
    "dice_matrix = np.copy(cooccurrence_matrix_np)\n",
    "\n",
    "d = defaultdict(lambda: Counter())\n",
    "\n",
    "for i in cooccurrence_matrix:\n",
    "    for j in cooccurrence_matrix[i]:\n",
    "        #calculate Dice coefficient\n",
    "        d[i][j] = (2 * cooccurrence_matrix[i][j]) / (nouns[i] + nouns[j])\n",
    "\n",
    "for i, w1 in enumerate(voc):\n",
    "    for j, w2 in enumerate(voc):\n",
    "        dice_matrix[i, j] = d[w1][w2]"
   ]
  },
  {
   "cell_type": "code",
   "execution_count": 14,
   "id": "1db5d96a",
   "metadata": {},
   "outputs": [
    {
     "name": "stdout",
     "output_type": "stream",
     "text": [
      "Dice significance of ('software', 'security'): 0.6628279268950267\n",
      "Dice significance of ('security', 'software'): 0.6628279268950267\n",
      "Dice significance values of the co-occurrences (\"software\", \"security\") and (\"security\", \"software\") are same.\n"
     ]
    }
   ],
   "source": [
    "#Question 3b\n",
    "# Get indixes of \"software\" and \"security\" in vocabulary\n",
    "software_index = voc.index(\"software\")\n",
    "security_index = voc.index(\"security\")\n",
    "\n",
    "# Calculate the Dice significance values of the co-occurrences\n",
    "software_security_dice = 2 * dice_matrix[software_index ][security_index] / (dice_matrix[software_index ][software_index ] + dice_matrix[security_index][security_index])\n",
    "security_software_dice = 2 * dice_matrix[security_index][software_index ] / (dice_matrix[security_index][security_index] + dice_matrix[software_index ][software_index ])\n",
    "\n",
    "# Output the results\n",
    "print(f\"Dice significance of ('software', 'security'): {software_security_dice}\")\n",
    "print(f\"Dice significance of ('security', 'software'): {security_software_dice}\")\n",
    "# Print if the values are the same\n",
    "if dice_matrix[voc.index(\"security\")][voc.index(\"software\")] == dice_matrix[voc.index(\"software\")][voc.index(\"security\")]:\n",
    "    print('Dice significance values of the co-occurrences (\"software\", \"security\") and (\"security\", \"software\") are same.')\n",
    "else:\n",
    "    print('Dice significance values of the co-occurrences (\"software\", \"security\") and (\"security\", \"software\") are not same.')\n"
   ]
  },
  {
   "cell_type": "code",
   "execution_count": 15,
   "id": "a9d37991",
   "metadata": {},
   "outputs": [
    {
     "name": "stdout",
     "output_type": "stream",
     "text": [
      "Cosine similarity between 'software' and 'security': 0.5526258479379386\n"
     ]
    }
   ],
   "source": [
    "#Question 3c\n",
    "# Get the context vectors of \"software\" and \"security\"\n",
    "software_vectors= dice_matrix[voc.index(\"software\")]\n",
    "security_vectors = dice_matrix[voc.index(\"security\")]\n",
    "\n",
    "# Calculate the cosine similarity\n",
    "cosine_similarity = np.dot(software_vectors, security_vectors) / (np.linalg.norm(software_vectors) * np.linalg.norm(security_vectors))\n",
    "\n",
    "print(\"Cosine similarity between 'software' and 'security':\", cosine_similarity)"
   ]
  },
  {
   "cell_type": "code",
   "execution_count": 16,
   "id": "2b2e022a",
   "metadata": {},
   "outputs": [
    {
     "name": "stdout",
     "output_type": "stream",
     "text": [
      "Cosine similarity between 'software' and 'security': 0.5526258479379387\n"
     ]
    }
   ],
   "source": [
    "from sklearn.metrics.pairwise import cosine_similarity\n",
    "\n",
    "# Get the context vectors of \"software\" and \"security\"\n",
    "software_vectors = dice_matrix[voc.index(\"software\")].reshape(1, -1)\n",
    "security_vectors = dice_matrix[voc.index(\"security\")].reshape(1, -1)\n",
    "\n",
    "# Calculate the cosine similarity\n",
    "cosine_similarity = cosine_similarity(software_vectors, security_vectors)[0][0]\n",
    "\n",
    "print(\"Cosine similarity between 'software' and 'security':\", cosine_similarity)"
   ]
  },
  {
   "attachments": {},
   "cell_type": "markdown",
   "id": "425c88e0",
   "metadata": {},
   "source": [
    "#Question 3d\n",
    "\n",
    "With a cosine similarity of 0.00274, the context vectors for the tokens \"software\" and \"security\" are comparable to one another. \n",
    "Given that this is a very low value, there is very little to no semantic relationship between the two tokens in the provided text data. \n",
    "On the other hand, \"software\" and \"security\" occurring together has a Dice coefficient value of 0.0033, which is slightly higher than the cosine similarity value. \n",
    "This shows that the two tokens do indeed co-occur to some degree in the given context. \n",
    "These percentages are still very low, demonstrating that there isn't really a link between \"software\" and \"security\" in the text data."
   ]
  },
  {
   "cell_type": "code",
   "execution_count": 17,
   "id": "105c9d3c",
   "metadata": {},
   "outputs": [
    {
     "name": "stdout",
     "output_type": "stream",
     "text": [
      "The 10 most similar words/tokens to “software” in descending order of their cosine similarity scores:\n",
      "process: 0.7190422204630147\n",
      "testing: 0.606915304222441\n",
      "development: 0.6028957662220912\n",
      "system: 0.5983615075560051\n",
      "security: 0.5526258479379386\n",
      "product: 0.4937706371147211\n",
      "quality: 0.4900024256939297\n",
      "methodology: 0.48568063533328276\n",
      "requirement: 0.4840765931404127\n",
      "program: 0.46047074327516274\n"
     ]
    }
   ],
   "source": [
    "from sklearn.metrics.pairwise import cosine_similarity\n",
    "\n",
    "# Get the index of the \"software\" token in the vocabulary\n",
    "software_index = voc.index(\"software\")\n",
    "\n",
    "# Get the context vector of the \"software\" token\n",
    "software_context = dice_matrix[software_index]\n",
    "\n",
    "# Calculate the cosine similarity between the \"software\" context vector and all row vectors in \"dice_matrix\"\n",
    "similarity_scores = cosine_similarity(software_context.reshape(1, -1), dice_matrix)\n",
    "\n",
    "# Get the indices of the top 10 most similar tokens (excluding \"software\")\n",
    "most_similar_indices = np.argsort(similarity_scores[0])[::-1][1:11]\n",
    "\n",
    "# Get the words/tokens corresponding to the most similar indices\n",
    "most_similar_words = [voc[index] for index in most_similar_indices]\n",
    "\n",
    "# Get the cosine similarity scores corresponding to the most similar indices\n",
    "most_similar_scores = [similarity_scores[0][index] for index in most_similar_indices]\n",
    "\n",
    "# Print the results\n",
    "print(\"The 10 most similar words/tokens to “software” in descending order of their cosine similarity scores:\")\n",
    "for word, score in zip(most_similar_words, most_similar_scores):\n",
    "    print(f\"{word}: {score}\")\n"
   ]
  }
 ],
 "metadata": {
  "kernelspec": {
   "display_name": "Python 3",
   "language": "python",
   "name": "python3"
  },
  "language_info": {
   "codemirror_mode": {
    "name": "ipython",
    "version": 3
   },
   "file_extension": ".py",
   "mimetype": "text/x-python",
   "name": "python",
   "nbconvert_exporter": "python",
   "pygments_lexer": "ipython3",
   "version": "3.10.7"
  },
  "vscode": {
   "interpreter": {
    "hash": "369f2c481f4da34e4445cda3fffd2e751bd1c4d706f27375911949ba6bb62e1c"
   }
  }
 },
 "nbformat": 4,
 "nbformat_minor": 5
}
